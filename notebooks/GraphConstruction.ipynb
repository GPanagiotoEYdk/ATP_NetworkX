{
 "cells": [
  {
   "attachments": {
    "image.png": {
     "image/png": "[encoded data removed]"
    }
   },
   "cell_type": "markdown",
   "id": "a765dba2",
   "metadata": {},
   "source": [
    "![image.png](attachment:image.png)"
   ]
  },
  {
   "cell_type": "markdown",
   "id": "312e5613",
   "metadata": {},
   "source": [
    "**This notebook is an implementation of ATP Hackathon using NetworkX Python library instead of Neo4j Graph Database and Cypher language. Will be presented the main methods and functionality of the library for Networks construction but also graph analysis.**"
   ]
  },
  {
   "cell_type": "markdown",
   "id": "53e2462c",
   "metadata": {},
   "source": [
    "NetworkX is a Python package for the creation, manipulation, and study of the structure, dynamics, and functions of complex networks."
   ]
  },
  {
   "cell_type": "code",
   "execution_count": 149,
   "id": "29be9b2e",
   "metadata": {},
   "outputs": [],
   "source": [
    "# necessary libraries import\n",
    "import networkx as nx\n",
    "import pandas as pd\n",
    "import numpy as np\n",
    "import math\n",
    "import matplotlib.pyplot as plt\n",
    "from importlib import reload\n",
    "import helper"
   ]
  },
  {
   "cell_type": "code",
   "execution_count": 150,
   "id": "d50a148c",
   "metadata": {},
   "outputs": [
    {
     "data": {
      "text/plain": [
       "<module 'helper' from 'C:\\\\Users\\\\LM532JA\\\\GitHub\\\\ATP_NetworkX\\\\notebooks\\\\helper.py'>"
      ]
     },
     "execution_count": 150,
     "metadata": {},
     "output_type": "execute_result"
    }
   ],
   "source": [
    "reload(helper)"
   ]
  },
  {
   "cell_type": "code",
   "execution_count": 151,
   "id": "1129d7ce",
   "metadata": {},
   "outputs": [],
   "source": [
    "from IPython.core.interactiveshell import InteractiveShell\n",
    "InteractiveShell.ast_node_interactivity = \"all\""
   ]
  },
  {
   "cell_type": "markdown",
   "id": "429b4f77",
   "metadata": {},
   "source": [
    "Loading the preprocessed data, the same data as we had in ATP Hackathon"
   ]
  },
  {
   "cell_type": "code",
   "execution_count": 152,
   "id": "981a9f3a",
   "metadata": {},
   "outputs": [],
   "source": [
    "data_path = 'C:\\\\Users\\\\LM532JA\\\\GitHub\\\\ATP_NetworkX\\\\data\\\\processed\\\\data.csv'"
   ]
  },
  {
   "cell_type": "code",
   "execution_count": 153,
   "id": "10d90587",
   "metadata": {},
   "outputs": [],
   "source": [
    "new_data_path = 'C:\\\\Users\\\\LM532JA\\\\GitHub\\\\ATP_NetworkX\\\\data\\\\data_new\\\\processed\\\\data.csv'"
   ]
  },
  {
   "cell_type": "code",
   "execution_count": 154,
   "id": "0ab4aa6c",
   "metadata": {},
   "outputs": [],
   "source": [
    "data = pd.read_csv(data_path)"
   ]
  },
  {
   "cell_type": "code",
   "execution_count": 155,
   "id": "15f52407",
   "metadata": {},
   "outputs": [],
   "source": [
    "%%capture\n",
    "data.info()"
   ]
  },
  {
   "cell_type": "code",
   "execution_count": 156,
   "id": "0b50c73b",
   "metadata": {},
   "outputs": [
    {
     "data": {
      "text/html": [
       "<div>\n",
       "<style scoped>\n",
       "    .dataframe tbody tr th:only-of-type {\n",
       "        vertical-align: middle;\n",
       "    }\n",
       "\n",
       "    .dataframe tbody tr th {\n",
       "        vertical-align: top;\n",
       "    }\n",
       "\n",
       "    .dataframe thead th {\n",
       "        text-align: right;\n",
       "    }\n",
       "</style>\n",
       "<table border=\"1\" class=\"dataframe\">\n",
       "  <thead>\n",
       "    <tr style=\"text-align: right;\">\n",
       "      <th></th>\n",
       "      <th>BeneID</th>\n",
       "      <th>DOB</th>\n",
       "      <th>DOD</th>\n",
       "      <th>Gender</th>\n",
       "      <th>Race</th>\n",
       "      <th>RenalDiseaseIndicator</th>\n",
       "      <th>State</th>\n",
       "      <th>County</th>\n",
       "      <th>NoOfMonths_PartACov</th>\n",
       "      <th>NoOfMonths_PartBCov</th>\n",
       "      <th>...</th>\n",
       "      <th>ClmProcedureCode_5</th>\n",
       "      <th>PotentialFraud</th>\n",
       "      <th>Age</th>\n",
       "      <th>IsDead</th>\n",
       "      <th>DaysAdmitted</th>\n",
       "      <th>DaysClaimLasted</th>\n",
       "      <th>ClaimEndAfterDischarged</th>\n",
       "      <th>TotalDiagnosis</th>\n",
       "      <th>TotalProcedures</th>\n",
       "      <th>TotalPhysicians</th>\n",
       "    </tr>\n",
       "  </thead>\n",
       "  <tbody>\n",
       "    <tr>\n",
       "      <th>0</th>\n",
       "      <td>BENE11001</td>\n",
       "      <td>1943-01-01</td>\n",
       "      <td>NaN</td>\n",
       "      <td>1</td>\n",
       "      <td>1</td>\n",
       "      <td>0</td>\n",
       "      <td>39</td>\n",
       "      <td>230</td>\n",
       "      <td>12</td>\n",
       "      <td>12</td>\n",
       "      <td>...</td>\n",
       "      <td>NaN</td>\n",
       "      <td>1</td>\n",
       "      <td>66.0</td>\n",
       "      <td>0</td>\n",
       "      <td>7</td>\n",
       "      <td>7</td>\n",
       "      <td>0</td>\n",
       "      <td>9</td>\n",
       "      <td>5</td>\n",
       "      <td>1</td>\n",
       "    </tr>\n",
       "    <tr>\n",
       "      <th>1</th>\n",
       "      <td>BENE17521</td>\n",
       "      <td>1913-12-01</td>\n",
       "      <td>NaN</td>\n",
       "      <td>2</td>\n",
       "      <td>1</td>\n",
       "      <td>0</td>\n",
       "      <td>39</td>\n",
       "      <td>230</td>\n",
       "      <td>12</td>\n",
       "      <td>12</td>\n",
       "      <td>...</td>\n",
       "      <td>NaN</td>\n",
       "      <td>1</td>\n",
       "      <td>95.0</td>\n",
       "      <td>0</td>\n",
       "      <td>13</td>\n",
       "      <td>13</td>\n",
       "      <td>0</td>\n",
       "      <td>9</td>\n",
       "      <td>5</td>\n",
       "      <td>3</td>\n",
       "    </tr>\n",
       "    <tr>\n",
       "      <th>2</th>\n",
       "      <td>BENE21718</td>\n",
       "      <td>1922-10-01</td>\n",
       "      <td>NaN</td>\n",
       "      <td>1</td>\n",
       "      <td>1</td>\n",
       "      <td>0</td>\n",
       "      <td>39</td>\n",
       "      <td>600</td>\n",
       "      <td>12</td>\n",
       "      <td>12</td>\n",
       "      <td>...</td>\n",
       "      <td>NaN</td>\n",
       "      <td>1</td>\n",
       "      <td>87.0</td>\n",
       "      <td>0</td>\n",
       "      <td>19</td>\n",
       "      <td>19</td>\n",
       "      <td>0</td>\n",
       "      <td>9</td>\n",
       "      <td>5</td>\n",
       "      <td>2</td>\n",
       "    </tr>\n",
       "    <tr>\n",
       "      <th>3</th>\n",
       "      <td>BENE22934</td>\n",
       "      <td>1930-07-01</td>\n",
       "      <td>NaN</td>\n",
       "      <td>2</td>\n",
       "      <td>1</td>\n",
       "      <td>0</td>\n",
       "      <td>39</td>\n",
       "      <td>280</td>\n",
       "      <td>12</td>\n",
       "      <td>12</td>\n",
       "      <td>...</td>\n",
       "      <td>NaN</td>\n",
       "      <td>1</td>\n",
       "      <td>79.0</td>\n",
       "      <td>0</td>\n",
       "      <td>5</td>\n",
       "      <td>5</td>\n",
       "      <td>0</td>\n",
       "      <td>7</td>\n",
       "      <td>5</td>\n",
       "      <td>3</td>\n",
       "    </tr>\n",
       "    <tr>\n",
       "      <th>4</th>\n",
       "      <td>BENE24402</td>\n",
       "      <td>1925-09-01</td>\n",
       "      <td>NaN</td>\n",
       "      <td>2</td>\n",
       "      <td>2</td>\n",
       "      <td>0</td>\n",
       "      <td>39</td>\n",
       "      <td>510</td>\n",
       "      <td>12</td>\n",
       "      <td>12</td>\n",
       "      <td>...</td>\n",
       "      <td>NaN</td>\n",
       "      <td>1</td>\n",
       "      <td>83.0</td>\n",
       "      <td>0</td>\n",
       "      <td>5</td>\n",
       "      <td>5</td>\n",
       "      <td>0</td>\n",
       "      <td>1</td>\n",
       "      <td>5</td>\n",
       "      <td>2</td>\n",
       "    </tr>\n",
       "  </tbody>\n",
       "</table>\n",
       "<p>5 rows × 62 columns</p>\n",
       "</div>"
      ],
      "text/plain": [
       "      BeneID         DOB  DOD  Gender  Race  RenalDiseaseIndicator  State  \\\n",
       "0  BENE11001  1943-01-01  NaN       1     1                      0     39   \n",
       "1  BENE17521  1913-12-01  NaN       2     1                      0     39   \n",
       "2  BENE21718  1922-10-01  NaN       1     1                      0     39   \n",
       "3  BENE22934  1930-07-01  NaN       2     1                      0     39   \n",
       "4  BENE24402  1925-09-01  NaN       2     2                      0     39   \n",
       "\n",
       "   County  NoOfMonths_PartACov  NoOfMonths_PartBCov  ...  ClmProcedureCode_5  \\\n",
       "0     230                   12                   12  ...                 NaN   \n",
       "1     230                   12                   12  ...                 NaN   \n",
       "2     600                   12                   12  ...                 NaN   \n",
       "3     280                   12                   12  ...                 NaN   \n",
       "4     510                   12                   12  ...                 NaN   \n",
       "\n",
       "   PotentialFraud   Age  IsDead  DaysAdmitted  DaysClaimLasted  \\\n",
       "0               1  66.0       0             7                7   \n",
       "1               1  95.0       0            13               13   \n",
       "2               1  87.0       0            19               19   \n",
       "3               1  79.0       0             5                5   \n",
       "4               1  83.0       0             5                5   \n",
       "\n",
       "   ClaimEndAfterDischarged  TotalDiagnosis  TotalProcedures  TotalPhysicians  \n",
       "0                        0               9                5                1  \n",
       "1                        0               9                5                3  \n",
       "2                        0               9                5                2  \n",
       "3                        0               7                5                3  \n",
       "4                        0               1                5                2  \n",
       "\n",
       "[5 rows x 62 columns]"
      ]
     },
     "execution_count": 156,
     "metadata": {},
     "output_type": "execute_result"
    }
   ],
   "source": [
    "data.head()"
   ]
  },
  {
   "cell_type": "markdown",
   "id": "cac01626",
   "metadata": {},
   "source": [
    "# Creating the Graph"
   ]
  },
  {
   "cell_type": "markdown",
   "id": "ee89fd96",
   "metadata": {},
   "source": [
    "**Nodes Properties/Attributes names with Dataframe's columns map.**\n",
    "\n",
    "In our initial dataframe the names of the columns do not correspond to the names of the attributes we have created in Neo4j hence bellow there is a mapping between the name of columns in graph and the initial columns' names. \n",
    "\n",
    "              \n",
    "\n",
    "```json\n",
    "           -- graph : \"dataframe\" --\n",
    "\n",
    "Beneficiary:  gender:\"Gender\", \n",
    "              race:\"Race\",\n",
    "              dob:\"DOB\",\n",
    "              county:\"County\",\n",
    "              state:\"State\",\n",
    "              id:\"BeneID\",\n",
    "              age:\"Age\",\n",
    "              dod:\"DOD\"\n",
    "                           \n",
    "Claim :   reimbursedAmt:\"InscClaimAmtReimbursed\", \n",
    "          claimEndAfterDischarged:\"ClaimEndAfterDischarged\",\n",
    "          admissionDate:\"AdmissionDt\",\n",
    "          daysClaimLasted:\"DaysClaimLasted\",\n",
    "          endDate:\"ClaimEndDt\",\n",
    "          dischargeDate:\"DischargeDt\",\n",
    "          deductibleAmt:\"DeductibleAmtPaid\",\n",
    "          id:\"ClaimID\",\n",
    "          startDate:\"ClaimStartDt\",\n",
    "          daysAdmitted:\"DaysAdmitted\"\n",
    "                   \n",
    "Provider: fraud:\"PotentialFraud\",\n",
    "          id: \"Provider\"\n",
    "          \n",
    "         \n",
    "Condition: id:\"conditionIdID\"\n",
    "           \n",
    "        \n",
    "Diagnosis: id:\"ClmAdmitDiagnosisCode\"\n",
    "           \n",
    "           \n",
    "Physician: id:\"physicianID\"\n",
    "           \n",
    "          \n",
    "Procedure: id:\"procedureID\"\n",
    "           \n",
    "```"
   ]
  },
  {
   "cell_type": "markdown",
   "id": "1872eb5b",
   "metadata": {},
   "source": [
    "**Nodes subcategories specifying.**\n",
    "\n",
    "Regarding the following nodes: **Condition**, **Procedure**, **Physician** and **Diagnosis**, they are created from all the possible subcategories of each, hence we need to specify these subcategories."
   ]
  },
  {
   "cell_type": "code",
   "execution_count": 157,
   "id": "16d17157",
   "metadata": {},
   "outputs": [],
   "source": [
    "# creating one list per node with their sub-categories columns\n",
    "conditionCode = [\n",
    "                 'RenalDiseaseIndicator','ChronicCond_Alzheimer','ChronicCond_Heartfailure',\n",
    "                 'ChronicCond_KidneyDisease','ChronicCond_Cancer','ChronicCond_ObstrPulmonary',\n",
    "                 'ChronicCond_Depression','ChronicCond_Diabetes','ChronicCond_IschemicHeart',\n",
    "                 'ChronicCond_Osteoporasis','ChronicCond_rheumatoidarthritis','ChronicCond_stroke'\n",
    "                ]\n",
    "\n",
    "procedureCode = ['ClmProcedureCode_1','ClmProcedureCode_2',\n",
    "                 'ClmProcedureCode_3','ClmProcedureCode_4',\n",
    "                 'ClmProcedureCode_5'\n",
    "                ]\n",
    "\n",
    "physicianCode = ['AttendingPhysician', 'OperatingPhysician', 'OtherPhysician']\n",
    "\n",
    "diagnosisCode = [\n",
    "                 'ClmAdmitDiagnosisCode', 'DiagnosisGroupCode','ClmDiagnosisCode_1',\n",
    "                 'ClmDiagnosisCode_2',   'ClmDiagnosisCode_3', 'ClmDiagnosisCode_4',\n",
    "                 'ClmDiagnosisCode_5',   'ClmDiagnosisCode_6', 'ClmDiagnosisCode_7',\n",
    "                 'ClmDiagnosisCode_8',   'ClmDiagnosisCode_9', 'ClmDiagnosisCode_10'\n",
    "                ]"
   ]
  },
  {
   "cell_type": "code",
   "execution_count": 158,
   "id": "4cde1c88",
   "metadata": {},
   "outputs": [
    {
     "data": {
      "text/plain": [
       "['ClmAdmitDiagnosisCode',\n",
       " 'DiagnosisGroupCode',\n",
       " 'ClmDiagnosisCode_1',\n",
       " 'ClmDiagnosisCode_2',\n",
       " 'ClmDiagnosisCode_3',\n",
       " 'ClmDiagnosisCode_4',\n",
       " 'ClmDiagnosisCode_5',\n",
       " 'ClmDiagnosisCode_6',\n",
       " 'ClmDiagnosisCode_7',\n",
       " 'ClmDiagnosisCode_8',\n",
       " 'ClmDiagnosisCode_9',\n",
       " 'ClmDiagnosisCode_10']"
      ]
     },
     "execution_count": 158,
     "metadata": {},
     "output_type": "execute_result"
    }
   ],
   "source": [
    "diagnosisCode"
   ]
  },
  {
   "cell_type": "markdown",
   "id": "39f53855",
   "metadata": {},
   "source": [
    "Moreover, the same values are being repeated hence we need to create a list of all the possible distinct values for each of the nodes."
   ]
  },
  {
   "cell_type": "code",
   "execution_count": 159,
   "id": "35180aa7",
   "metadata": {},
   "outputs": [],
   "source": [
    "procedureID =  [*set([val for c in procedureCode for val in data[c].dropna().unique().tolist()])]\n",
    "physicianID = [*set([val for c in physicianCode for val in data[c].dropna().unique().tolist()])]\n",
    "diagnosisID  =  [*set([val for c in diagnosisCode for val in data[c].dropna().unique().tolist()])]"
   ]
  },
  {
   "cell_type": "markdown",
   "id": "3046a0f0",
   "metadata": {},
   "source": [
    "All in all, bellow is presented the final format the nodes and their attributes will be created into the graph."
   ]
  },
  {
   "cell_type": "markdown",
   "id": "347ae3ea",
   "metadata": {},
   "source": [
    "```json\n",
    "{Node Name: Node Values  :    {Attribute Name: Attribute Value}\n",
    "                              }\n",
    "Beneficiary\n",
    "{\"id\":list(data[\"BeneID\"]):   {\n",
    "                             \"label\": 'Beneficiary',\n",
    "                             \"gender\":list(data[\"Gender\"]), \n",
    "                             \"race\":list(data[\"Race\"]),\n",
    "                             \"dob\":list(data[\"DOB\"]),\n",
    "                             \"county\":list(data[\"County\"]),\n",
    "                             \"dod\":list(data[\"DOD\"]),\n",
    "                             \"state\":list(data[\"State\"]),\n",
    "                             \"age\":list(data[\"Age\"])\n",
    "                              }}\n",
    "   \n",
    "Claim        \n",
    "{\"id\":list(data[\"ClaimID\"]):  {\n",
    "                             \"label\": 'Claim',\n",
    "                             \"reimbursedAmt\":list(data[\"InscClaimAmtReimbursed\"]), \n",
    "                             \"claimEndAfterDischarged\":list(data[\"ClaimEndAfterDischarged\"]),\n",
    "                             \"admissionDate\":list(data[\"AdmissionDt\"]),\n",
    "                             \"daysClaimLasted\":list(data[\"DaysClaimLasted\"]),\n",
    "                             \"endDate\":list(data[\"ClaimEndDt\"]),\n",
    "                             \"dischargeDate\":list(data[\"DischargeDt\"]),\n",
    "                             \"deductibleAmt\":list(data[\"DeductibleAmtPaid\"]),\n",
    "                             \"startDate\":list(data[\"ClaimStartDt\"]),\n",
    "                             \"daysAdmitted\":list(data[\"DaysAdmitted\"])\n",
    "                              }}\n",
    "\n",
    "Provider\n",
    "{\"id\":list(data[\"Provider\"]): {\"label\": 'Provider',\n",
    "                               \"fraud\":list(data[\"PotentialFraud\"])\n",
    "                              }}\n",
    "\n",
    "Condition         \n",
    "{\"id\":conditionCode         :  {\"label\": 'Condition'}\n",
    "                               }\n",
    "\n",
    "Diagnosis\n",
    "{\"id\":diagnosisID           :  {\"label\": 'Diagnosis'}\n",
    "                               }\n",
    "\n",
    "Physician\n",
    "{\"id\":physicianID           :  {\"label\": 'Physician'}\n",
    "                               }\n",
    "\n",
    "Procedure\n",
    "{\"id\":procedureID           :  {\"label\": 'Physician'}\n",
    "                               }\n",
    "```"
   ]
  },
  {
   "cell_type": "markdown",
   "id": "f8e70743",
   "metadata": {},
   "source": [
    "**Creating a graph**\n",
    "The graph is a MultiDiGraph as it allows to store multiple directed edges between two nodes. Each edge can hold optional data or attributes. It also provides the option of Nodes to be arbitrary (hashable) Python objects with optional key/value attributes and edges are represented as links between nodes with optional key/value attributes. "
   ]
  },
  {
   "cell_type": "markdown",
   "id": "58256f12",
   "metadata": {},
   "source": [
    "Nodes and edges are not specified as NetworkX objects. This leaves us free to use meaningful items as nodes and edges."
   ]
  },
  {
   "cell_type": "code",
   "execution_count": 160,
   "id": "ad66c188",
   "metadata": {},
   "outputs": [],
   "source": [
    "# initializing our graph with name G\n",
    "G = nx.MultiDiGraph()"
   ]
  },
  {
   "cell_type": "markdown",
   "id": "9e5b97cf",
   "metadata": {},
   "source": [
    "## NODES\n",
    "As the first step, the graph's nodes will be created."
   ]
  },
  {
   "cell_type": "markdown",
   "id": "0bd0a9de",
   "metadata": {},
   "source": [
    "NetworkX provides the following ways for nodes creation.\n",
    "* **G.add_node()** one node at the time\n",
    "* **G.add_nodes_from()** from any iterable container or from another graph"
   ]
  },
  {
   "cell_type": "markdown",
   "id": "a5988c18",
   "metadata": {},
   "source": [
    "**Beneficiaries Nodes**"
   ]
  },
  {
   "cell_type": "markdown",
   "id": "8da472b2",
   "metadata": {},
   "source": [
    "For each node we have to define the columns of our data we will need to specify the attributess."
   ]
  },
  {
   "cell_type": "code",
   "execution_count": 161,
   "id": "41544aab",
   "metadata": {},
   "outputs": [],
   "source": [
    "#the initial columns of dataset we need as properties of the node\n",
    "beneficiary = data[['BeneID','Gender','Race','DOB','County','DOD','State','Age']]"
   ]
  },
  {
   "cell_type": "markdown",
   "id": "4a2de0bc",
   "metadata": {},
   "source": [
    "Each distinct beneficiary is a distinct node but since the same could appear more than once in our dataframe we have to specify the age as the latest one."
   ]
  },
  {
   "cell_type": "code",
   "execution_count": 162,
   "id": "645fd546",
   "metadata": {},
   "outputs": [],
   "source": [
    "bage = pd.DataFrame({'BeneID':beneficiary.groupby('BeneID').max('Age')['Age'].index, 'Age':beneficiary.groupby('BeneID').max('Age')['Age'].values})"
   ]
  },
  {
   "cell_type": "code",
   "execution_count": 163,
   "id": "b97fa330",
   "metadata": {},
   "outputs": [],
   "source": [
    "%%capture\n",
    "# merge the two dataframes to create the final one and also add the Label column\n",
    "beneficiary.drop('Age', axis=1, inplace=True)\n",
    "beneficiary = pd.merge(beneficiary,bage,left_on='BeneID', right_on='BeneID')"
   ]
  },
  {
   "cell_type": "markdown",
   "id": "1ab3a666",
   "metadata": {},
   "source": [
    "In each node we add another attribute the \"Label\", as this is the only way to identify every node."
   ]
  },
  {
   "cell_type": "code",
   "execution_count": 164,
   "id": "06013a28",
   "metadata": {},
   "outputs": [
    {
     "data": {
      "text/html": [
       "<div>\n",
       "<style scoped>\n",
       "    .dataframe tbody tr th:only-of-type {\n",
       "        vertical-align: middle;\n",
       "    }\n",
       "\n",
       "    .dataframe tbody tr th {\n",
       "        vertical-align: top;\n",
       "    }\n",
       "\n",
       "    .dataframe thead th {\n",
       "        text-align: right;\n",
       "    }\n",
       "</style>\n",
       "<table border=\"1\" class=\"dataframe\">\n",
       "  <thead>\n",
       "    <tr style=\"text-align: right;\">\n",
       "      <th></th>\n",
       "      <th>Label</th>\n",
       "      <th>Gender</th>\n",
       "      <th>Race</th>\n",
       "      <th>DOB</th>\n",
       "      <th>County</th>\n",
       "      <th>DOD</th>\n",
       "      <th>State</th>\n",
       "      <th>Age</th>\n",
       "    </tr>\n",
       "    <tr>\n",
       "      <th>BeneID</th>\n",
       "      <th></th>\n",
       "      <th></th>\n",
       "      <th></th>\n",
       "      <th></th>\n",
       "      <th></th>\n",
       "      <th></th>\n",
       "      <th></th>\n",
       "      <th></th>\n",
       "    </tr>\n",
       "  </thead>\n",
       "  <tbody>\n",
       "    <tr>\n",
       "      <th>BENE11001</th>\n",
       "      <td>Beneficiary</td>\n",
       "      <td>1</td>\n",
       "      <td>1</td>\n",
       "      <td>1943-01-01</td>\n",
       "      <td>230</td>\n",
       "      <td>NaN</td>\n",
       "      <td>39</td>\n",
       "      <td>67.0</td>\n",
       "    </tr>\n",
       "    <tr>\n",
       "      <th>BENE17521</th>\n",
       "      <td>Beneficiary</td>\n",
       "      <td>2</td>\n",
       "      <td>1</td>\n",
       "      <td>1913-12-01</td>\n",
       "      <td>230</td>\n",
       "      <td>NaN</td>\n",
       "      <td>39</td>\n",
       "      <td>95.0</td>\n",
       "    </tr>\n",
       "    <tr>\n",
       "      <th>BENE21718</th>\n",
       "      <td>Beneficiary</td>\n",
       "      <td>1</td>\n",
       "      <td>1</td>\n",
       "      <td>1922-10-01</td>\n",
       "      <td>600</td>\n",
       "      <td>NaN</td>\n",
       "      <td>39</td>\n",
       "      <td>87.0</td>\n",
       "    </tr>\n",
       "    <tr>\n",
       "      <th>BENE22934</th>\n",
       "      <td>Beneficiary</td>\n",
       "      <td>2</td>\n",
       "      <td>1</td>\n",
       "      <td>1930-07-01</td>\n",
       "      <td>280</td>\n",
       "      <td>NaN</td>\n",
       "      <td>39</td>\n",
       "      <td>79.0</td>\n",
       "    </tr>\n",
       "    <tr>\n",
       "      <th>BENE24402</th>\n",
       "      <td>Beneficiary</td>\n",
       "      <td>2</td>\n",
       "      <td>2</td>\n",
       "      <td>1925-09-01</td>\n",
       "      <td>510</td>\n",
       "      <td>NaN</td>\n",
       "      <td>39</td>\n",
       "      <td>83.0</td>\n",
       "    </tr>\n",
       "  </tbody>\n",
       "</table>\n",
       "</div>"
      ],
      "text/plain": [
       "                 Label  Gender  Race         DOB  County  DOD  State   Age\n",
       "BeneID                                                                    \n",
       "BENE11001  Beneficiary       1     1  1943-01-01     230  NaN     39  67.0\n",
       "BENE17521  Beneficiary       2     1  1913-12-01     230  NaN     39  95.0\n",
       "BENE21718  Beneficiary       1     1  1922-10-01     600  NaN     39  87.0\n",
       "BENE22934  Beneficiary       2     1  1930-07-01     280  NaN     39  79.0\n",
       "BENE24402  Beneficiary       2     2  1925-09-01     510  NaN     39  83.0"
      ]
     },
     "execution_count": 164,
     "metadata": {},
     "output_type": "execute_result"
    }
   ],
   "source": [
    "#add one more column which we will use as the label attribute\n",
    "beneficiary['Label'] = 'Beneficiary'\n",
    "beneficiary = beneficiary.drop_duplicates(keep='first')\n",
    "beneficiary.set_index('BeneID', inplace=True)\n",
    "\n",
    "# columns reindexing in order to display them in the same order as in Neo4j\n",
    "beneficiary = beneficiary.iloc[:,[-1,0,1,2,3,4,5,6]]\n",
    "\n",
    "#this is the final table before adding the nodes\n",
    "beneficiary.head()"
   ]
  },
  {
   "cell_type": "code",
   "execution_count": 165,
   "id": "3ee17403",
   "metadata": {},
   "outputs": [],
   "source": [
    "# lowcase attributes\n",
    "beneficiary.columns = [c.lower() for c in beneficiary.columns] "
   ]
  },
  {
   "cell_type": "code",
   "execution_count": 166,
   "id": "01e1c60e",
   "metadata": {},
   "outputs": [],
   "source": [
    "# creating the dictionary\n",
    "benefdict = beneficiary.to_dict(orient='index')"
   ]
  },
  {
   "cell_type": "markdown",
   "id": "8cb87cb8",
   "metadata": {},
   "source": [
    "Bellow is the main NetworkX method for adding nodes in a graph using another data structure. \n",
    "**graph.add_nodes_from()**"
   ]
  },
  {
   "cell_type": "code",
   "execution_count": 167,
   "id": "3fa6515e",
   "metadata": {},
   "outputs": [],
   "source": [
    "# adding the nodes of Beneficiaries\n",
    "G.add_nodes_from([(node, attr) for (node, attr) in benefdict.items()])"
   ]
  },
  {
   "cell_type": "markdown",
   "id": "c8bcfdc4",
   "metadata": {},
   "source": [
    "**Claims Nodes**"
   ]
  },
  {
   "cell_type": "code",
   "execution_count": 168,
   "id": "38ef5dc5",
   "metadata": {},
   "outputs": [],
   "source": [
    "#the initial columns of dataset we need as properties\n",
    "claims = data[['ClaimID','InscClaimAmtReimbursed','ClaimEndAfterDischarged','AdmissionDt','DaysClaimLasted','ClaimEndDt','DischargeDt','DeductibleAmtPaid','ClaimStartDt','DaysAdmitted']]"
   ]
  },
  {
   "cell_type": "code",
   "execution_count": 169,
   "id": "bc125e02",
   "metadata": {},
   "outputs": [],
   "source": [
    "%%capture\n",
    "\n",
    "#add one more column which we will use as the label attribute\n",
    "claims['Label'] = 'Claim'\n",
    "\n",
    "#reorder columns' index\n",
    "claims.columns = ['id','reimbursedAmt','claimEndAfterDischarged','admissionDate','daysClaimLasted','endDate','dischargeDate','deductibleAmt','startDate','daysAdmitted', 'label']"
   ]
  },
  {
   "cell_type": "code",
   "execution_count": 170,
   "id": "1c475b87",
   "metadata": {},
   "outputs": [
    {
     "data": {
      "text/html": [
       "<div>\n",
       "<style scoped>\n",
       "    .dataframe tbody tr th:only-of-type {\n",
       "        vertical-align: middle;\n",
       "    }\n",
       "\n",
       "    .dataframe tbody tr th {\n",
       "        vertical-align: top;\n",
       "    }\n",
       "\n",
       "    .dataframe thead th {\n",
       "        text-align: right;\n",
       "    }\n",
       "</style>\n",
       "<table border=\"1\" class=\"dataframe\">\n",
       "  <thead>\n",
       "    <tr style=\"text-align: right;\">\n",
       "      <th></th>\n",
       "      <th>label</th>\n",
       "      <th>id</th>\n",
       "      <th>reimbursedAmt</th>\n",
       "      <th>claimEndAfterDischarged</th>\n",
       "      <th>admissionDate</th>\n",
       "      <th>daysClaimLasted</th>\n",
       "      <th>endDate</th>\n",
       "      <th>dischargeDate</th>\n",
       "      <th>deductibleAmt</th>\n",
       "      <th>startDate</th>\n",
       "      <th>daysAdmitted</th>\n",
       "    </tr>\n",
       "  </thead>\n",
       "  <tbody>\n",
       "    <tr>\n",
       "      <th>0</th>\n",
       "      <td>Claim</td>\n",
       "      <td>CLM46614</td>\n",
       "      <td>26000</td>\n",
       "      <td>0</td>\n",
       "      <td>2009-04-12</td>\n",
       "      <td>7</td>\n",
       "      <td>2009-04-18</td>\n",
       "      <td>2009-04-18</td>\n",
       "      <td>1068.0</td>\n",
       "      <td>2009-04-12</td>\n",
       "      <td>7</td>\n",
       "    </tr>\n",
       "    <tr>\n",
       "      <th>1</th>\n",
       "      <td>Claim</td>\n",
       "      <td>CLM34721</td>\n",
       "      <td>19000</td>\n",
       "      <td>0</td>\n",
       "      <td>2009-01-20</td>\n",
       "      <td>13</td>\n",
       "      <td>2009-02-01</td>\n",
       "      <td>2009-02-01</td>\n",
       "      <td>1068.0</td>\n",
       "      <td>2009-01-20</td>\n",
       "      <td>13</td>\n",
       "    </tr>\n",
       "    <tr>\n",
       "      <th>2</th>\n",
       "      <td>Claim</td>\n",
       "      <td>CLM72336</td>\n",
       "      <td>17000</td>\n",
       "      <td>0</td>\n",
       "      <td>2009-10-17</td>\n",
       "      <td>19</td>\n",
       "      <td>2009-11-04</td>\n",
       "      <td>2009-11-04</td>\n",
       "      <td>1068.0</td>\n",
       "      <td>2009-10-17</td>\n",
       "      <td>19</td>\n",
       "    </tr>\n",
       "    <tr>\n",
       "      <th>3</th>\n",
       "      <td>Claim</td>\n",
       "      <td>CLM73394</td>\n",
       "      <td>13000</td>\n",
       "      <td>0</td>\n",
       "      <td>2009-10-25</td>\n",
       "      <td>5</td>\n",
       "      <td>2009-10-29</td>\n",
       "      <td>2009-10-29</td>\n",
       "      <td>1068.0</td>\n",
       "      <td>2009-10-25</td>\n",
       "      <td>5</td>\n",
       "    </tr>\n",
       "    <tr>\n",
       "      <th>4</th>\n",
       "      <td>Claim</td>\n",
       "      <td>CLM32911</td>\n",
       "      <td>3000</td>\n",
       "      <td>0</td>\n",
       "      <td>2009-01-08</td>\n",
       "      <td>5</td>\n",
       "      <td>2009-01-12</td>\n",
       "      <td>2009-01-12</td>\n",
       "      <td>1068.0</td>\n",
       "      <td>2009-01-08</td>\n",
       "      <td>5</td>\n",
       "    </tr>\n",
       "  </tbody>\n",
       "</table>\n",
       "</div>"
      ],
      "text/plain": [
       "   label        id  reimbursedAmt  claimEndAfterDischarged admissionDate  \\\n",
       "0  Claim  CLM46614          26000                        0    2009-04-12   \n",
       "1  Claim  CLM34721          19000                        0    2009-01-20   \n",
       "2  Claim  CLM72336          17000                        0    2009-10-17   \n",
       "3  Claim  CLM73394          13000                        0    2009-10-25   \n",
       "4  Claim  CLM32911           3000                        0    2009-01-08   \n",
       "\n",
       "   daysClaimLasted     endDate dischargeDate  deductibleAmt   startDate  \\\n",
       "0                7  2009-04-18    2009-04-18         1068.0  2009-04-12   \n",
       "1               13  2009-02-01    2009-02-01         1068.0  2009-01-20   \n",
       "2               19  2009-11-04    2009-11-04         1068.0  2009-10-17   \n",
       "3                5  2009-10-29    2009-10-29         1068.0  2009-10-25   \n",
       "4                5  2009-01-12    2009-01-12         1068.0  2009-01-08   \n",
       "\n",
       "   daysAdmitted  \n",
       "0             7  \n",
       "1            13  \n",
       "2            19  \n",
       "3             5  \n",
       "4             5  "
      ]
     },
     "execution_count": 170,
     "metadata": {},
     "output_type": "execute_result"
    }
   ],
   "source": [
    "# columns reindexing\n",
    "claims = claims.iloc[:,[-1,0,1,2,3,4,5,6,7,8,9]]\n",
    "claims.head()"
   ]
  },
  {
   "cell_type": "code",
   "execution_count": 171,
   "id": "55acdbc6",
   "metadata": {},
   "outputs": [],
   "source": [
    "# seting id as the index as it is the unique identifier which will be the name of the node \n",
    "claims.set_index('id', inplace=True)"
   ]
  },
  {
   "cell_type": "code",
   "execution_count": 172,
   "id": "46b1a076",
   "metadata": {},
   "outputs": [],
   "source": [
    "claimdict = claims.to_dict(orient='index')"
   ]
  },
  {
   "cell_type": "code",
   "execution_count": 173,
   "id": "233aa492",
   "metadata": {},
   "outputs": [],
   "source": [
    "# adding the nodes of claims\n",
    "G.add_nodes_from([(node, attr) for (node, attr) in claimdict.items()])"
   ]
  },
  {
   "cell_type": "markdown",
   "id": "6b05c354",
   "metadata": {},
   "source": [
    "**Providers Nodes**"
   ]
  },
  {
   "cell_type": "code",
   "execution_count": 174,
   "id": "e2bbce3a",
   "metadata": {},
   "outputs": [],
   "source": [
    "#the initial columns of dataset we need as properties\n",
    "provider = data[[\"Provider\",'PotentialFraud']]"
   ]
  },
  {
   "cell_type": "code",
   "execution_count": 175,
   "id": "86e5d22f",
   "metadata": {},
   "outputs": [],
   "source": [
    "%%capture\n",
    "\n",
    "#add one more column which we will use as the label attribute\n",
    "provider['Label'] = 'Provider'\n",
    "provider.columns = ['id','fraud','label']"
   ]
  },
  {
   "cell_type": "code",
   "execution_count": 176,
   "id": "b97b3c84",
   "metadata": {},
   "outputs": [],
   "source": [
    "# we don't want the duplicates but only the main values\n",
    "provider = provider.drop_duplicates(keep='first')"
   ]
  },
  {
   "cell_type": "code",
   "execution_count": 177,
   "id": "d47b292b",
   "metadata": {},
   "outputs": [
    {
     "data": {
      "text/html": [
       "<div>\n",
       "<style scoped>\n",
       "    .dataframe tbody tr th:only-of-type {\n",
       "        vertical-align: middle;\n",
       "    }\n",
       "\n",
       "    .dataframe tbody tr th {\n",
       "        vertical-align: top;\n",
       "    }\n",
       "\n",
       "    .dataframe thead th {\n",
       "        text-align: right;\n",
       "    }\n",
       "</style>\n",
       "<table border=\"1\" class=\"dataframe\">\n",
       "  <thead>\n",
       "    <tr style=\"text-align: right;\">\n",
       "      <th></th>\n",
       "      <th>label</th>\n",
       "      <th>id</th>\n",
       "      <th>fraud</th>\n",
       "    </tr>\n",
       "  </thead>\n",
       "  <tbody>\n",
       "    <tr>\n",
       "      <th>0</th>\n",
       "      <td>Provider</td>\n",
       "      <td>PRV55912</td>\n",
       "      <td>1</td>\n",
       "    </tr>\n",
       "    <tr>\n",
       "      <th>60</th>\n",
       "      <td>Provider</td>\n",
       "      <td>PRV55907</td>\n",
       "      <td>0</td>\n",
       "    </tr>\n",
       "    <tr>\n",
       "      <th>120</th>\n",
       "      <td>Provider</td>\n",
       "      <td>PRV56046</td>\n",
       "      <td>0</td>\n",
       "    </tr>\n",
       "    <tr>\n",
       "      <th>134</th>\n",
       "      <td>Provider</td>\n",
       "      <td>PRV52405</td>\n",
       "      <td>0</td>\n",
       "    </tr>\n",
       "    <tr>\n",
       "      <th>156</th>\n",
       "      <td>Provider</td>\n",
       "      <td>PRV56614</td>\n",
       "      <td>0</td>\n",
       "    </tr>\n",
       "  </tbody>\n",
       "</table>\n",
       "</div>"
      ],
      "text/plain": [
       "        label        id  fraud\n",
       "0    Provider  PRV55912      1\n",
       "60   Provider  PRV55907      0\n",
       "120  Provider  PRV56046      0\n",
       "134  Provider  PRV52405      0\n",
       "156  Provider  PRV56614      0"
      ]
     },
     "execution_count": 177,
     "metadata": {},
     "output_type": "execute_result"
    }
   ],
   "source": [
    "provider = provider.iloc[:,[-1,0,1]]\n",
    "provider.head()"
   ]
  },
  {
   "cell_type": "code",
   "execution_count": 178,
   "id": "6d2046c7",
   "metadata": {},
   "outputs": [],
   "source": [
    "provider.set_index('id', inplace=True)"
   ]
  },
  {
   "cell_type": "code",
   "execution_count": 179,
   "id": "bd447a97",
   "metadata": {},
   "outputs": [],
   "source": [
    "providerdict = provider.to_dict(orient='index')"
   ]
  },
  {
   "cell_type": "code",
   "execution_count": 180,
   "id": "60a05c84",
   "metadata": {},
   "outputs": [],
   "source": [
    "# adding the nodes of providers\n",
    "G.add_nodes_from([(node, attr) for (node, attr) in providerdict.items()])"
   ]
  },
  {
   "cell_type": "markdown",
   "id": "2f332f33",
   "metadata": {},
   "source": [
    "**Condition Nodes**"
   ]
  },
  {
   "cell_type": "code",
   "execution_count": 181,
   "id": "37899531",
   "metadata": {},
   "outputs": [],
   "source": [
    "condict = helper.NodesCreation(conditionCode, 'Condition')"
   ]
  },
  {
   "cell_type": "code",
   "execution_count": 182,
   "id": "731eb5d6",
   "metadata": {},
   "outputs": [],
   "source": [
    "# adding the nodes of conditions\n",
    "G.add_nodes_from([(node, attr) for (node, attr) in condict.items()])"
   ]
  },
  {
   "cell_type": "markdown",
   "id": "7a6696d7",
   "metadata": {},
   "source": [
    "**Diagnosis Nodes**"
   ]
  },
  {
   "cell_type": "code",
   "execution_count": 183,
   "id": "e0c697a0",
   "metadata": {},
   "outputs": [],
   "source": [
    "diagdict = helper.NodesCreation(diagnosisID, 'Diagnosis')"
   ]
  },
  {
   "cell_type": "code",
   "execution_count": 184,
   "id": "0e3000a8",
   "metadata": {},
   "outputs": [],
   "source": [
    "# adding the nodes of diagnosis\n",
    "G.add_nodes_from([(node, attr) for (node, attr) in diagdict.items()])"
   ]
  },
  {
   "cell_type": "markdown",
   "id": "121e242b",
   "metadata": {},
   "source": [
    "**Physicians Nodes**"
   ]
  },
  {
   "cell_type": "code",
   "execution_count": 185,
   "id": "d4076c14",
   "metadata": {},
   "outputs": [],
   "source": [
    "physdict = helper.NodesCreation(physicianID, 'Physician')"
   ]
  },
  {
   "cell_type": "code",
   "execution_count": 186,
   "id": "970a8987",
   "metadata": {},
   "outputs": [],
   "source": [
    "# adding the nodes of physician\n",
    "G.add_nodes_from([(node, attr) for (node, attr) in physdict.items()])"
   ]
  },
  {
   "cell_type": "markdown",
   "id": "3cabcc44",
   "metadata": {},
   "source": [
    "**Procedures Nodes**"
   ]
  },
  {
   "cell_type": "code",
   "execution_count": 187,
   "id": "e221c7a3",
   "metadata": {},
   "outputs": [],
   "source": [
    "procdict = helper.NodesCreation(procedureID, 'Procedure')"
   ]
  },
  {
   "cell_type": "code",
   "execution_count": 188,
   "id": "7910c301",
   "metadata": {},
   "outputs": [],
   "source": [
    "# adding the nodes of procedure\n",
    "G.add_nodes_from([(node, attr) for (node, attr) in procdict.items()])"
   ]
  },
  {
   "cell_type": "markdown",
   "id": "74ad37c5",
   "metadata": {},
   "source": [
    "In order to count the number of nodes we use the following method.\n",
    "**G.number_of_nodes()**"
   ]
  },
  {
   "cell_type": "code",
   "execution_count": 189,
   "id": "d79e4b7e",
   "metadata": {},
   "outputs": [
    {
     "data": {
      "text/plain": [
       "98972"
      ]
     },
     "execution_count": 189,
     "metadata": {},
     "output_type": "execute_result"
    }
   ],
   "source": [
    "# check the number of nodes\n",
    "nx.number_of_nodes(G)"
   ]
  },
  {
   "cell_type": "markdown",
   "id": "aef8bb25",
   "metadata": {},
   "source": [
    "## EDGES\n",
    "Next step, the graph's edges will be created."
   ]
  },
  {
   "cell_type": "markdown",
   "id": "3bcc3000",
   "metadata": {},
   "source": [
    "NetworkX provides the following ways for edges creation.\n",
    "* **G.add_edge()** one node at the time\n",
    "* **G.add_edges_from()** from any iterable container or from another graph"
   ]
  },
  {
   "cell_type": "markdown",
   "id": "65ee8405",
   "metadata": {},
   "source": [
    "#### Beneficiary - Condition edges"
   ]
  },
  {
   "cell_type": "code",
   "execution_count": 190,
   "id": "5886dbb8",
   "metadata": {},
   "outputs": [],
   "source": [
    "# the data we need for the edge\n",
    "bencondf = data.loc[:,['BeneID']+conditionCode].sort_values('BeneID')"
   ]
  },
  {
   "cell_type": "code",
   "execution_count": 191,
   "id": "5b197954",
   "metadata": {},
   "outputs": [
    {
     "data": {
      "text/html": [
       "<div>\n",
       "<style scoped>\n",
       "    .dataframe tbody tr th:only-of-type {\n",
       "        vertical-align: middle;\n",
       "    }\n",
       "\n",
       "    .dataframe tbody tr th {\n",
       "        vertical-align: top;\n",
       "    }\n",
       "\n",
       "    .dataframe thead th {\n",
       "        text-align: right;\n",
       "    }\n",
       "</style>\n",
       "<table border=\"1\" class=\"dataframe\">\n",
       "  <thead>\n",
       "    <tr style=\"text-align: right;\">\n",
       "      <th></th>\n",
       "      <th>BeneID</th>\n",
       "      <th>RenalDiseaseIndicator</th>\n",
       "      <th>ChronicCond_Alzheimer</th>\n",
       "      <th>ChronicCond_Heartfailure</th>\n",
       "      <th>ChronicCond_KidneyDisease</th>\n",
       "      <th>ChronicCond_Cancer</th>\n",
       "      <th>ChronicCond_ObstrPulmonary</th>\n",
       "      <th>ChronicCond_Depression</th>\n",
       "      <th>ChronicCond_Diabetes</th>\n",
       "      <th>ChronicCond_IschemicHeart</th>\n",
       "      <th>ChronicCond_Osteoporasis</th>\n",
       "      <th>ChronicCond_rheumatoidarthritis</th>\n",
       "      <th>ChronicCond_stroke</th>\n",
       "    </tr>\n",
       "  </thead>\n",
       "  <tbody>\n",
       "    <tr>\n",
       "      <th>5847</th>\n",
       "      <td>BENE100002</td>\n",
       "      <td>0</td>\n",
       "      <td>1</td>\n",
       "      <td>1</td>\n",
       "      <td>0</td>\n",
       "      <td>0</td>\n",
       "      <td>1</td>\n",
       "      <td>1</td>\n",
       "      <td>1</td>\n",
       "      <td>1</td>\n",
       "      <td>0</td>\n",
       "      <td>0</td>\n",
       "      <td>1</td>\n",
       "    </tr>\n",
       "    <tr>\n",
       "      <th>39731</th>\n",
       "      <td>BENE100004</td>\n",
       "      <td>1</td>\n",
       "      <td>0</td>\n",
       "      <td>1</td>\n",
       "      <td>1</td>\n",
       "      <td>0</td>\n",
       "      <td>1</td>\n",
       "      <td>0</td>\n",
       "      <td>1</td>\n",
       "      <td>1</td>\n",
       "      <td>1</td>\n",
       "      <td>0</td>\n",
       "      <td>0</td>\n",
       "    </tr>\n",
       "    <tr>\n",
       "      <th>11838</th>\n",
       "      <td>BENE100006</td>\n",
       "      <td>0</td>\n",
       "      <td>1</td>\n",
       "      <td>0</td>\n",
       "      <td>1</td>\n",
       "      <td>0</td>\n",
       "      <td>1</td>\n",
       "      <td>0</td>\n",
       "      <td>1</td>\n",
       "      <td>1</td>\n",
       "      <td>0</td>\n",
       "      <td>0</td>\n",
       "      <td>0</td>\n",
       "    </tr>\n",
       "    <tr>\n",
       "      <th>4966</th>\n",
       "      <td>BENE100007</td>\n",
       "      <td>1</td>\n",
       "      <td>0</td>\n",
       "      <td>0</td>\n",
       "      <td>0</td>\n",
       "      <td>0</td>\n",
       "      <td>0</td>\n",
       "      <td>0</td>\n",
       "      <td>0</td>\n",
       "      <td>1</td>\n",
       "      <td>0</td>\n",
       "      <td>0</td>\n",
       "      <td>0</td>\n",
       "    </tr>\n",
       "    <tr>\n",
       "      <th>23953</th>\n",
       "      <td>BENE100010</td>\n",
       "      <td>0</td>\n",
       "      <td>0</td>\n",
       "      <td>1</td>\n",
       "      <td>1</td>\n",
       "      <td>1</td>\n",
       "      <td>1</td>\n",
       "      <td>0</td>\n",
       "      <td>1</td>\n",
       "      <td>1</td>\n",
       "      <td>0</td>\n",
       "      <td>1</td>\n",
       "      <td>0</td>\n",
       "    </tr>\n",
       "    <tr>\n",
       "      <th>...</th>\n",
       "      <td>...</td>\n",
       "      <td>...</td>\n",
       "      <td>...</td>\n",
       "      <td>...</td>\n",
       "      <td>...</td>\n",
       "      <td>...</td>\n",
       "      <td>...</td>\n",
       "      <td>...</td>\n",
       "      <td>...</td>\n",
       "      <td>...</td>\n",
       "      <td>...</td>\n",
       "      <td>...</td>\n",
       "      <td>...</td>\n",
       "    </tr>\n",
       "    <tr>\n",
       "      <th>9498</th>\n",
       "      <td>BENE99965</td>\n",
       "      <td>0</td>\n",
       "      <td>1</td>\n",
       "      <td>1</td>\n",
       "      <td>0</td>\n",
       "      <td>0</td>\n",
       "      <td>0</td>\n",
       "      <td>0</td>\n",
       "      <td>0</td>\n",
       "      <td>1</td>\n",
       "      <td>0</td>\n",
       "      <td>0</td>\n",
       "      <td>0</td>\n",
       "    </tr>\n",
       "    <tr>\n",
       "      <th>13420</th>\n",
       "      <td>BENE99974</td>\n",
       "      <td>0</td>\n",
       "      <td>1</td>\n",
       "      <td>1</td>\n",
       "      <td>1</td>\n",
       "      <td>0</td>\n",
       "      <td>0</td>\n",
       "      <td>0</td>\n",
       "      <td>1</td>\n",
       "      <td>1</td>\n",
       "      <td>0</td>\n",
       "      <td>0</td>\n",
       "      <td>0</td>\n",
       "    </tr>\n",
       "    <tr>\n",
       "      <th>257</th>\n",
       "      <td>BENE99976</td>\n",
       "      <td>0</td>\n",
       "      <td>0</td>\n",
       "      <td>1</td>\n",
       "      <td>0</td>\n",
       "      <td>0</td>\n",
       "      <td>0</td>\n",
       "      <td>0</td>\n",
       "      <td>0</td>\n",
       "      <td>1</td>\n",
       "      <td>0</td>\n",
       "      <td>0</td>\n",
       "      <td>0</td>\n",
       "    </tr>\n",
       "    <tr>\n",
       "      <th>15793</th>\n",
       "      <td>BENE99984</td>\n",
       "      <td>0</td>\n",
       "      <td>1</td>\n",
       "      <td>1</td>\n",
       "      <td>0</td>\n",
       "      <td>0</td>\n",
       "      <td>0</td>\n",
       "      <td>1</td>\n",
       "      <td>1</td>\n",
       "      <td>1</td>\n",
       "      <td>0</td>\n",
       "      <td>0</td>\n",
       "      <td>0</td>\n",
       "    </tr>\n",
       "    <tr>\n",
       "      <th>33169</th>\n",
       "      <td>BENE99995</td>\n",
       "      <td>0</td>\n",
       "      <td>1</td>\n",
       "      <td>1</td>\n",
       "      <td>0</td>\n",
       "      <td>0</td>\n",
       "      <td>0</td>\n",
       "      <td>1</td>\n",
       "      <td>1</td>\n",
       "      <td>1</td>\n",
       "      <td>1</td>\n",
       "      <td>1</td>\n",
       "      <td>1</td>\n",
       "    </tr>\n",
       "  </tbody>\n",
       "</table>\n",
       "<p>40474 rows × 13 columns</p>\n",
       "</div>"
      ],
      "text/plain": [
       "           BeneID  RenalDiseaseIndicator  ChronicCond_Alzheimer  \\\n",
       "5847   BENE100002                      0                      1   \n",
       "39731  BENE100004                      1                      0   \n",
       "11838  BENE100006                      0                      1   \n",
       "4966   BENE100007                      1                      0   \n",
       "23953  BENE100010                      0                      0   \n",
       "...           ...                    ...                    ...   \n",
       "9498    BENE99965                      0                      1   \n",
       "13420   BENE99974                      0                      1   \n",
       "257     BENE99976                      0                      0   \n",
       "15793   BENE99984                      0                      1   \n",
       "33169   BENE99995                      0                      1   \n",
       "\n",
       "       ChronicCond_Heartfailure  ChronicCond_KidneyDisease  \\\n",
       "5847                          1                          0   \n",
       "39731                         1                          1   \n",
       "11838                         0                          1   \n",
       "4966                          0                          0   \n",
       "23953                         1                          1   \n",
       "...                         ...                        ...   \n",
       "9498                          1                          0   \n",
       "13420                         1                          1   \n",
       "257                           1                          0   \n",
       "15793                         1                          0   \n",
       "33169                         1                          0   \n",
       "\n",
       "       ChronicCond_Cancer  ChronicCond_ObstrPulmonary  ChronicCond_Depression  \\\n",
       "5847                    0                           1                       1   \n",
       "39731                   0                           1                       0   \n",
       "11838                   0                           1                       0   \n",
       "4966                    0                           0                       0   \n",
       "23953                   1                           1                       0   \n",
       "...                   ...                         ...                     ...   \n",
       "9498                    0                           0                       0   \n",
       "13420                   0                           0                       0   \n",
       "257                     0                           0                       0   \n",
       "15793                   0                           0                       1   \n",
       "33169                   0                           0                       1   \n",
       "\n",
       "       ChronicCond_Diabetes  ChronicCond_IschemicHeart  \\\n",
       "5847                      1                          1   \n",
       "39731                     1                          1   \n",
       "11838                     1                          1   \n",
       "4966                      0                          1   \n",
       "23953                     1                          1   \n",
       "...                     ...                        ...   \n",
       "9498                      0                          1   \n",
       "13420                     1                          1   \n",
       "257                       0                          1   \n",
       "15793                     1                          1   \n",
       "33169                     1                          1   \n",
       "\n",
       "       ChronicCond_Osteoporasis  ChronicCond_rheumatoidarthritis  \\\n",
       "5847                          0                                0   \n",
       "39731                         1                                0   \n",
       "11838                         0                                0   \n",
       "4966                          0                                0   \n",
       "23953                         0                                1   \n",
       "...                         ...                              ...   \n",
       "9498                          0                                0   \n",
       "13420                         0                                0   \n",
       "257                           0                                0   \n",
       "15793                         0                                0   \n",
       "33169                         1                                1   \n",
       "\n",
       "       ChronicCond_stroke  \n",
       "5847                    1  \n",
       "39731                   0  \n",
       "11838                   0  \n",
       "4966                    0  \n",
       "23953                   0  \n",
       "...                   ...  \n",
       "9498                    0  \n",
       "13420                   0  \n",
       "257                     0  \n",
       "15793                   0  \n",
       "33169                   1  \n",
       "\n",
       "[40474 rows x 13 columns]"
      ]
     },
     "execution_count": 191,
     "metadata": {},
     "output_type": "execute_result"
    }
   ],
   "source": [
    "#%%capture\n",
    "bencondf"
   ]
  },
  {
   "cell_type": "code",
   "execution_count": 192,
   "id": "ae577e9b",
   "metadata": {},
   "outputs": [],
   "source": [
    "bencondf.set_index('BeneID', inplace=True)"
   ]
  },
  {
   "cell_type": "code",
   "execution_count": 193,
   "id": "5dccef80",
   "metadata": {},
   "outputs": [
    {
     "data": {
      "text/html": [
       "<div>\n",
       "<style scoped>\n",
       "    .dataframe tbody tr th:only-of-type {\n",
       "        vertical-align: middle;\n",
       "    }\n",
       "\n",
       "    .dataframe tbody tr th {\n",
       "        vertical-align: top;\n",
       "    }\n",
       "\n",
       "    .dataframe thead th {\n",
       "        text-align: right;\n",
       "    }\n",
       "</style>\n",
       "<table border=\"1\" class=\"dataframe\">\n",
       "  <thead>\n",
       "    <tr style=\"text-align: right;\">\n",
       "      <th></th>\n",
       "      <th>RenalDiseaseIndicator</th>\n",
       "      <th>ChronicCond_Alzheimer</th>\n",
       "      <th>ChronicCond_Heartfailure</th>\n",
       "      <th>ChronicCond_KidneyDisease</th>\n",
       "      <th>ChronicCond_Cancer</th>\n",
       "      <th>ChronicCond_ObstrPulmonary</th>\n",
       "      <th>ChronicCond_Depression</th>\n",
       "      <th>ChronicCond_Diabetes</th>\n",
       "      <th>ChronicCond_IschemicHeart</th>\n",
       "      <th>ChronicCond_Osteoporasis</th>\n",
       "      <th>ChronicCond_rheumatoidarthritis</th>\n",
       "      <th>ChronicCond_stroke</th>\n",
       "    </tr>\n",
       "    <tr>\n",
       "      <th>BeneID</th>\n",
       "      <th></th>\n",
       "      <th></th>\n",
       "      <th></th>\n",
       "      <th></th>\n",
       "      <th></th>\n",
       "      <th></th>\n",
       "      <th></th>\n",
       "      <th></th>\n",
       "      <th></th>\n",
       "      <th></th>\n",
       "      <th></th>\n",
       "      <th></th>\n",
       "    </tr>\n",
       "  </thead>\n",
       "  <tbody>\n",
       "    <tr>\n",
       "      <th>BENE100002</th>\n",
       "      <td>NaN</td>\n",
       "      <td>1.0</td>\n",
       "      <td>1.0</td>\n",
       "      <td>NaN</td>\n",
       "      <td>NaN</td>\n",
       "      <td>1.0</td>\n",
       "      <td>1.0</td>\n",
       "      <td>1.0</td>\n",
       "      <td>1.0</td>\n",
       "      <td>NaN</td>\n",
       "      <td>NaN</td>\n",
       "      <td>1.0</td>\n",
       "    </tr>\n",
       "    <tr>\n",
       "      <th>BENE100004</th>\n",
       "      <td>1.0</td>\n",
       "      <td>NaN</td>\n",
       "      <td>1.0</td>\n",
       "      <td>1.0</td>\n",
       "      <td>NaN</td>\n",
       "      <td>1.0</td>\n",
       "      <td>NaN</td>\n",
       "      <td>1.0</td>\n",
       "      <td>1.0</td>\n",
       "      <td>1.0</td>\n",
       "      <td>NaN</td>\n",
       "      <td>NaN</td>\n",
       "    </tr>\n",
       "    <tr>\n",
       "      <th>BENE100006</th>\n",
       "      <td>NaN</td>\n",
       "      <td>1.0</td>\n",
       "      <td>NaN</td>\n",
       "      <td>1.0</td>\n",
       "      <td>NaN</td>\n",
       "      <td>1.0</td>\n",
       "      <td>NaN</td>\n",
       "      <td>1.0</td>\n",
       "      <td>1.0</td>\n",
       "      <td>NaN</td>\n",
       "      <td>NaN</td>\n",
       "      <td>NaN</td>\n",
       "    </tr>\n",
       "    <tr>\n",
       "      <th>BENE100007</th>\n",
       "      <td>1.0</td>\n",
       "      <td>NaN</td>\n",
       "      <td>NaN</td>\n",
       "      <td>NaN</td>\n",
       "      <td>NaN</td>\n",
       "      <td>NaN</td>\n",
       "      <td>NaN</td>\n",
       "      <td>NaN</td>\n",
       "      <td>1.0</td>\n",
       "      <td>NaN</td>\n",
       "      <td>NaN</td>\n",
       "      <td>NaN</td>\n",
       "    </tr>\n",
       "    <tr>\n",
       "      <th>BENE100010</th>\n",
       "      <td>NaN</td>\n",
       "      <td>NaN</td>\n",
       "      <td>1.0</td>\n",
       "      <td>1.0</td>\n",
       "      <td>1.0</td>\n",
       "      <td>1.0</td>\n",
       "      <td>NaN</td>\n",
       "      <td>1.0</td>\n",
       "      <td>1.0</td>\n",
       "      <td>NaN</td>\n",
       "      <td>1.0</td>\n",
       "      <td>NaN</td>\n",
       "    </tr>\n",
       "    <tr>\n",
       "      <th>...</th>\n",
       "      <td>...</td>\n",
       "      <td>...</td>\n",
       "      <td>...</td>\n",
       "      <td>...</td>\n",
       "      <td>...</td>\n",
       "      <td>...</td>\n",
       "      <td>...</td>\n",
       "      <td>...</td>\n",
       "      <td>...</td>\n",
       "      <td>...</td>\n",
       "      <td>...</td>\n",
       "      <td>...</td>\n",
       "    </tr>\n",
       "    <tr>\n",
       "      <th>BENE99965</th>\n",
       "      <td>NaN</td>\n",
       "      <td>1.0</td>\n",
       "      <td>1.0</td>\n",
       "      <td>NaN</td>\n",
       "      <td>NaN</td>\n",
       "      <td>NaN</td>\n",
       "      <td>NaN</td>\n",
       "      <td>NaN</td>\n",
       "      <td>1.0</td>\n",
       "      <td>NaN</td>\n",
       "      <td>NaN</td>\n",
       "      <td>NaN</td>\n",
       "    </tr>\n",
       "    <tr>\n",
       "      <th>BENE99974</th>\n",
       "      <td>NaN</td>\n",
       "      <td>1.0</td>\n",
       "      <td>1.0</td>\n",
       "      <td>1.0</td>\n",
       "      <td>NaN</td>\n",
       "      <td>NaN</td>\n",
       "      <td>NaN</td>\n",
       "      <td>1.0</td>\n",
       "      <td>1.0</td>\n",
       "      <td>NaN</td>\n",
       "      <td>NaN</td>\n",
       "      <td>NaN</td>\n",
       "    </tr>\n",
       "    <tr>\n",
       "      <th>BENE99976</th>\n",
       "      <td>NaN</td>\n",
       "      <td>NaN</td>\n",
       "      <td>1.0</td>\n",
       "      <td>NaN</td>\n",
       "      <td>NaN</td>\n",
       "      <td>NaN</td>\n",
       "      <td>NaN</td>\n",
       "      <td>NaN</td>\n",
       "      <td>1.0</td>\n",
       "      <td>NaN</td>\n",
       "      <td>NaN</td>\n",
       "      <td>NaN</td>\n",
       "    </tr>\n",
       "    <tr>\n",
       "      <th>BENE99984</th>\n",
       "      <td>NaN</td>\n",
       "      <td>1.0</td>\n",
       "      <td>1.0</td>\n",
       "      <td>NaN</td>\n",
       "      <td>NaN</td>\n",
       "      <td>NaN</td>\n",
       "      <td>1.0</td>\n",
       "      <td>1.0</td>\n",
       "      <td>1.0</td>\n",
       "      <td>NaN</td>\n",
       "      <td>NaN</td>\n",
       "      <td>NaN</td>\n",
       "    </tr>\n",
       "    <tr>\n",
       "      <th>BENE99995</th>\n",
       "      <td>NaN</td>\n",
       "      <td>1.0</td>\n",
       "      <td>1.0</td>\n",
       "      <td>NaN</td>\n",
       "      <td>NaN</td>\n",
       "      <td>NaN</td>\n",
       "      <td>1.0</td>\n",
       "      <td>1.0</td>\n",
       "      <td>1.0</td>\n",
       "      <td>1.0</td>\n",
       "      <td>1.0</td>\n",
       "      <td>1.0</td>\n",
       "    </tr>\n",
       "  </tbody>\n",
       "</table>\n",
       "<p>40474 rows × 12 columns</p>\n",
       "</div>"
      ],
      "text/plain": [
       "            RenalDiseaseIndicator  ChronicCond_Alzheimer  \\\n",
       "BeneID                                                     \n",
       "BENE100002                    NaN                    1.0   \n",
       "BENE100004                    1.0                    NaN   \n",
       "BENE100006                    NaN                    1.0   \n",
       "BENE100007                    1.0                    NaN   \n",
       "BENE100010                    NaN                    NaN   \n",
       "...                           ...                    ...   \n",
       "BENE99965                     NaN                    1.0   \n",
       "BENE99974                     NaN                    1.0   \n",
       "BENE99976                     NaN                    NaN   \n",
       "BENE99984                     NaN                    1.0   \n",
       "BENE99995                     NaN                    1.0   \n",
       "\n",
       "            ChronicCond_Heartfailure  ChronicCond_KidneyDisease  \\\n",
       "BeneID                                                            \n",
       "BENE100002                       1.0                        NaN   \n",
       "BENE100004                       1.0                        1.0   \n",
       "BENE100006                       NaN                        1.0   \n",
       "BENE100007                       NaN                        NaN   \n",
       "BENE100010                       1.0                        1.0   \n",
       "...                              ...                        ...   \n",
       "BENE99965                        1.0                        NaN   \n",
       "BENE99974                        1.0                        1.0   \n",
       "BENE99976                        1.0                        NaN   \n",
       "BENE99984                        1.0                        NaN   \n",
       "BENE99995                        1.0                        NaN   \n",
       "\n",
       "            ChronicCond_Cancer  ChronicCond_ObstrPulmonary  \\\n",
       "BeneID                                                       \n",
       "BENE100002                 NaN                         1.0   \n",
       "BENE100004                 NaN                         1.0   \n",
       "BENE100006                 NaN                         1.0   \n",
       "BENE100007                 NaN                         NaN   \n",
       "BENE100010                 1.0                         1.0   \n",
       "...                        ...                         ...   \n",
       "BENE99965                  NaN                         NaN   \n",
       "BENE99974                  NaN                         NaN   \n",
       "BENE99976                  NaN                         NaN   \n",
       "BENE99984                  NaN                         NaN   \n",
       "BENE99995                  NaN                         NaN   \n",
       "\n",
       "            ChronicCond_Depression  ChronicCond_Diabetes  \\\n",
       "BeneID                                                     \n",
       "BENE100002                     1.0                   1.0   \n",
       "BENE100004                     NaN                   1.0   \n",
       "BENE100006                     NaN                   1.0   \n",
       "BENE100007                     NaN                   NaN   \n",
       "BENE100010                     NaN                   1.0   \n",
       "...                            ...                   ...   \n",
       "BENE99965                      NaN                   NaN   \n",
       "BENE99974                      NaN                   1.0   \n",
       "BENE99976                      NaN                   NaN   \n",
       "BENE99984                      1.0                   1.0   \n",
       "BENE99995                      1.0                   1.0   \n",
       "\n",
       "            ChronicCond_IschemicHeart  ChronicCond_Osteoporasis  \\\n",
       "BeneID                                                            \n",
       "BENE100002                        1.0                       NaN   \n",
       "BENE100004                        1.0                       1.0   \n",
       "BENE100006                        1.0                       NaN   \n",
       "BENE100007                        1.0                       NaN   \n",
       "BENE100010                        1.0                       NaN   \n",
       "...                               ...                       ...   \n",
       "BENE99965                         1.0                       NaN   \n",
       "BENE99974                         1.0                       NaN   \n",
       "BENE99976                         1.0                       NaN   \n",
       "BENE99984                         1.0                       NaN   \n",
       "BENE99995                         1.0                       1.0   \n",
       "\n",
       "            ChronicCond_rheumatoidarthritis  ChronicCond_stroke  \n",
       "BeneID                                                           \n",
       "BENE100002                              NaN                 1.0  \n",
       "BENE100004                              NaN                 NaN  \n",
       "BENE100006                              NaN                 NaN  \n",
       "BENE100007                              NaN                 NaN  \n",
       "BENE100010                              1.0                 NaN  \n",
       "...                                     ...                 ...  \n",
       "BENE99965                               NaN                 NaN  \n",
       "BENE99974                               NaN                 NaN  \n",
       "BENE99976                               NaN                 NaN  \n",
       "BENE99984                               NaN                 NaN  \n",
       "BENE99995                               1.0                 1.0  \n",
       "\n",
       "[40474 rows x 12 columns]"
      ]
     },
     "execution_count": 193,
     "metadata": {},
     "output_type": "execute_result"
    }
   ],
   "source": [
    "#%%capture\n",
    "bencondf[bencondf==1]"
   ]
  },
  {
   "cell_type": "code",
   "execution_count": 194,
   "id": "e30cafaf",
   "metadata": {},
   "outputs": [],
   "source": [
    "# creating a dictionary to be used for adding the data of edges by removing nan values which are not proper nodes' values.\n",
    "# in case of 1 the specific condition is not a property of the beneficiary otherwise it is\n",
    "bencondedges = {}\n",
    "for i in range(bencondf.shape[0]):\n",
    "    #print(i, np.where(bencondf.iloc[i,:]==1.0)[0])\n",
    "    #print(bencondf.index[i],list(bencondf.iloc[i,np.where(bencondf.iloc[i,:]==1.0)[0]].index))\n",
    "    bencondedges[bencondf.index[i]] = list(bencondf.iloc[i,np.where(bencondf.iloc[i,:]==1.0)[0]].index)"
   ]
  },
  {
   "cell_type": "code",
   "execution_count": 195,
   "id": "86faf24a",
   "metadata": {},
   "outputs": [],
   "source": [
    "%%capture\n",
    "bencondedges"
   ]
  },
  {
   "cell_type": "markdown",
   "id": "21f7669e",
   "metadata": {},
   "source": [
    "Follows the main method for creating edges using a data structure. Also passing the label/name of the \"connection\".\n",
    "**graph.add_edges_from()**"
   ]
  },
  {
   "cell_type": "code",
   "execution_count": 196,
   "id": "d75bf321",
   "metadata": {},
   "outputs": [],
   "source": [
    "%%capture\n",
    "# adding the edges\n",
    "for k, v in bencondedges.items():\n",
    "    G.add_edges_from(([(k, t) for t in v]), label= 'HAS_CONDITION')"
   ]
  },
  {
   "cell_type": "markdown",
   "id": "ed38f84d",
   "metadata": {},
   "source": [
    "#### Claim - Provider edges"
   ]
  },
  {
   "cell_type": "code",
   "execution_count": 197,
   "id": "8ebc7097",
   "metadata": {},
   "outputs": [],
   "source": [
    "# using the function we have created to add the edges.\n",
    "clmprovedges = helper.AddSimpleEdge(data, ['ClaimID','Provider'], G, 'SUBMITTED_BY', False)"
   ]
  },
  {
   "cell_type": "markdown",
   "id": "dc649014",
   "metadata": {},
   "source": [
    "#### Claim - Procedure edges"
   ]
  },
  {
   "cell_type": "markdown",
   "id": "64cf5819",
   "metadata": {},
   "source": [
    "An extra work is needed in this case to extract the unique procedure codes and also the cases we have an edge or not."
   ]
  },
  {
   "cell_type": "code",
   "execution_count": 198,
   "id": "9ef727dd",
   "metadata": {},
   "outputs": [],
   "source": [
    "clmprocdf = data[['ClaimID',\n",
    "                     'ClmProcedureCode_1',\n",
    "                     'ClmProcedureCode_2',\n",
    "                     'ClmProcedureCode_3',\n",
    "                     'ClmProcedureCode_4',\n",
    "                     'ClmProcedureCode_5'\n",
    "                     ]].set_index('ClaimID').dropna(axis=0, how='all').dropna(axis=1, how='all')"
   ]
  },
  {
   "cell_type": "code",
   "execution_count": 199,
   "id": "460c6f64",
   "metadata": {},
   "outputs": [],
   "source": [
    "clmprocdf['ClmProcedureCode'] = clmprocdf[['ClmProcedureCode_1', 'ClmProcedureCode_2',\n",
    "                                           'ClmProcedureCode_3', 'ClmProcedureCode_4',\n",
    "                                           'ClmProcedureCode_5']].apply(lambda x: helper.NewColumn(x), axis=1)"
   ]
  },
  {
   "cell_type": "code",
   "execution_count": 200,
   "id": "11f4f2e3",
   "metadata": {},
   "outputs": [],
   "source": [
    "clmprocdf.reset_index(inplace=True)"
   ]
  },
  {
   "cell_type": "code",
   "execution_count": 201,
   "id": "a9a55c21",
   "metadata": {},
   "outputs": [],
   "source": [
    "clmprocedges = helper.AddSimpleEdge(clmprocdf, ['ClaimID','ClmProcedureCode'], G, 'HAS_PROCEDURE_CODE_OF', True)"
   ]
  },
  {
   "cell_type": "markdown",
   "id": "8c7ce5c2",
   "metadata": {},
   "source": [
    "#### Claim - Beneficiary edges"
   ]
  },
  {
   "cell_type": "code",
   "execution_count": 202,
   "id": "fb3e7d1f",
   "metadata": {},
   "outputs": [],
   "source": [
    "clmbenedges = helper.AddSimpleEdge(data, ['ClaimID','BeneID'], G, 'CREATED_FOR', False)"
   ]
  },
  {
   "cell_type": "markdown",
   "id": "eab3fdeb",
   "metadata": {},
   "source": [
    "#### Claim - Diagnosis edges"
   ]
  },
  {
   "cell_type": "markdown",
   "id": "e82c7825",
   "metadata": {},
   "source": [
    "In this case we have more than one way of connecting. The edges are seperated in three different types: \n",
    "**has diagnosis code of / has groupcode of / has admission with**"
   ]
  },
  {
   "cell_type": "code",
   "execution_count": 203,
   "id": "e7bb0a8e",
   "metadata": {},
   "outputs": [],
   "source": [
    "clmdiagnedges = data[['ClaimID']+diagnosisCode]"
   ]
  },
  {
   "cell_type": "markdown",
   "id": "b2e4b2b2",
   "metadata": {},
   "source": [
    "Edge Type: HAS_DIAGNOSIS_CODE_OF"
   ]
  },
  {
   "cell_type": "code",
   "execution_count": 204,
   "id": "88cc2776",
   "metadata": {},
   "outputs": [],
   "source": [
    "diagnosiscodedf = clmdiagnedges.set_index('ClaimID').iloc[:,2:].dropna(axis=0, how='all').dropna(axis=1, how='all')"
   ]
  },
  {
   "cell_type": "code",
   "execution_count": 205,
   "id": "9bdce748",
   "metadata": {},
   "outputs": [],
   "source": [
    "diagnosiscodedf['DiagnosisCode'] = diagnosiscodedf[['ClmDiagnosisCode_1','ClmDiagnosisCode_2','ClmDiagnosisCode_3','ClmDiagnosisCode_4','ClmDiagnosisCode_5','ClmDiagnosisCode_6','ClmDiagnosisCode_7','ClmDiagnosisCode_8','ClmDiagnosisCode_9','ClmDiagnosisCode_10']].apply(lambda x: helper.NewColumn(x), axis=1)"
   ]
  },
  {
   "cell_type": "code",
   "execution_count": 206,
   "id": "3b63c901",
   "metadata": {},
   "outputs": [],
   "source": [
    "diagnosiscodedf.reset_index(inplace=True)"
   ]
  },
  {
   "cell_type": "code",
   "execution_count": 207,
   "id": "efc1fd08",
   "metadata": {},
   "outputs": [],
   "source": [
    "clmdiagcodedges = helper.AddSimpleEdge(diagnosiscodedf, ['ClaimID','DiagnosisCode'], G, 'HAS_DIAGNOSIS_CODE_OF', True)"
   ]
  },
  {
   "cell_type": "markdown",
   "id": "7f582d06",
   "metadata": {},
   "source": [
    "Edge Type: HAS_GROUP_CODE_OF"
   ]
  },
  {
   "cell_type": "code",
   "execution_count": 208,
   "id": "ba4c57a0",
   "metadata": {},
   "outputs": [],
   "source": [
    "clmdiaggroupcodedges = helper.AddSimpleEdge(clmdiagnedges, ['ClaimID','DiagnosisGroupCode'], G, 'HAS_GROUP_CODE_OF', False)"
   ]
  },
  {
   "cell_type": "markdown",
   "id": "e61d7ea4",
   "metadata": {},
   "source": [
    "Edge Type: HAS_ADMISSION_WITH"
   ]
  },
  {
   "cell_type": "code",
   "execution_count": 209,
   "id": "2dcfdbe8",
   "metadata": {},
   "outputs": [],
   "source": [
    "clmdiagadmicodedges = helper.AddSimpleEdge(clmdiagnedges, ['ClaimID','ClmAdmitDiagnosisCode'], G, 'HAS_ADMISSION_WITH', False)"
   ]
  },
  {
   "cell_type": "markdown",
   "id": "79182c76",
   "metadata": {},
   "source": [
    "#### Claim - Physician edges"
   ]
  },
  {
   "cell_type": "markdown",
   "id": "c1ef249b",
   "metadata": {},
   "source": [
    "Another case with more than once type of connection, as there are the following types: \n",
    "**has attending / has operatig / has other**"
   ]
  },
  {
   "cell_type": "code",
   "execution_count": 210,
   "id": "128a37c6",
   "metadata": {},
   "outputs": [],
   "source": [
    "clmphysedges = data[['ClaimID']+physicianCode].dropna(axis=0, how='all').dropna(axis=1, how='all')"
   ]
  },
  {
   "cell_type": "markdown",
   "id": "dacee6b0",
   "metadata": {},
   "source": [
    "Edge Type: HAS_ATTENDING"
   ]
  },
  {
   "cell_type": "code",
   "execution_count": 211,
   "id": "9616968e",
   "metadata": {},
   "outputs": [],
   "source": [
    "clmphysattenddf = clmphysedges[['ClaimID','AttendingPhysician']].dropna(axis=0, how='any')"
   ]
  },
  {
   "cell_type": "code",
   "execution_count": 212,
   "id": "fa76a212",
   "metadata": {},
   "outputs": [],
   "source": [
    "clmphysattendedges = helper.AddSimpleEdge(clmphysattenddf, ['ClaimID','AttendingPhysician'], G, 'HAS_ATTENDING', False)"
   ]
  },
  {
   "cell_type": "markdown",
   "id": "314ea91d",
   "metadata": {},
   "source": [
    "Edge Type: HAS_OPERATING"
   ]
  },
  {
   "cell_type": "code",
   "execution_count": 213,
   "id": "bdc2115b",
   "metadata": {},
   "outputs": [],
   "source": [
    "clmphysoperdf = clmphysedges[['ClaimID','OperatingPhysician']].dropna(axis=0, how='any')"
   ]
  },
  {
   "cell_type": "code",
   "execution_count": 214,
   "id": "a5b6c539",
   "metadata": {},
   "outputs": [],
   "source": [
    "clmphysoperedges = helper.AddSimpleEdge(clmphysoperdf, ['ClaimID','OperatingPhysician'], G, 'HAS_OPERATING', False)"
   ]
  },
  {
   "cell_type": "markdown",
   "id": "8bc2234f",
   "metadata": {},
   "source": [
    "Edge Type: HAS_OTHER"
   ]
  },
  {
   "cell_type": "code",
   "execution_count": 215,
   "id": "18e0569f",
   "metadata": {},
   "outputs": [],
   "source": [
    "clmphysotherdf = clmphysedges[['ClaimID','OtherPhysician']].dropna(axis=0, how='any')"
   ]
  },
  {
   "cell_type": "code",
   "execution_count": 216,
   "id": "2ae69f9d",
   "metadata": {},
   "outputs": [],
   "source": [
    "clmphysotherdges = helper.AddSimpleEdge(clmphysotherdf, ['ClaimID','OtherPhysician'], G, 'HAS_OTHER', False)"
   ]
  },
  {
   "cell_type": "markdown",
   "id": "7ca890ec",
   "metadata": {},
   "source": [
    "In order to count the number of edges we use the following method.\n",
    "**G.number_of_edges()**"
   ]
  },
  {
   "cell_type": "code",
   "execution_count": 217,
   "id": "93c27fa2",
   "metadata": {},
   "outputs": [
    {
     "data": {
      "text/plain": [
       "757806"
      ]
     },
     "execution_count": 217,
     "metadata": {},
     "output_type": "execute_result"
    }
   ],
   "source": [
    "# check the number of edges\n",
    "nx.number_of_edges(G)"
   ]
  },
  {
   "cell_type": "markdown",
   "id": "3cece94e",
   "metadata": {},
   "source": [
    "Using the method **graph.clear()** we delete everything in graph, but we don't really want something like that right now. In case we would like to remove specific nodes or edges, the suitable methods are:\n",
    "**Graph.remove_node()** , **Graph.remove_edge()**"
   ]
  },
  {
   "cell_type": "markdown",
   "id": "d0dfe60a",
   "metadata": {},
   "source": [
    "Let's save our graph now:"
   ]
  },
  {
   "cell_type": "code",
   "execution_count": 218,
   "id": "530c6a49",
   "metadata": {},
   "outputs": [],
   "source": [
    "nx.write_gpickle(G, \"C:\\\\Users\\\\LM532JA\\\\GitHub\\\\ATP_NetworkX\\\\graphs\\\\ATP_Graph.gpickle\")"
   ]
  },
  {
   "cell_type": "markdown",
   "id": "80057ce8",
   "metadata": {},
   "source": [
    "### After this procedure above we have created the same graph Network as we did in Neo4j. The same nodes and edges, with the same attributes and labels. The next step will be to analyze the network.!"
   ]
  }
 ],
 "metadata": {
  "kernelspec": {
   "display_name": "Python 3 (ipykernel)",
   "language": "python",
   "name": "python3"
  },
  "language_info": {
   "codemirror_mode": {
    "name": "ipython",
    "version": 3
   },
   "file_extension": ".py",
   "mimetype": "text/x-python",
   "name": "python",
   "nbconvert_exporter": "python",
   "pygments_lexer": "ipython3",
   "version": "3.9.13"
  }
 },
 "nbformat": 4,
 "nbformat_minor": 5
}
